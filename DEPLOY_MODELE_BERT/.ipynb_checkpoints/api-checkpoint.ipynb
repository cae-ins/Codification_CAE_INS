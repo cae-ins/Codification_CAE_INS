{
 "cells": [
  {
   "cell_type": "code",
   "execution_count": null,
   "id": "ee5e5754",
   "metadata": {},
   "outputs": [],
   "source": [
    "from fastapi import FastAPI, Request\n",
    "from fastapi.responses import HTMLResponse\n",
    "from transformers import DistilBertForSequenceClassification, DistilBertTokenizerFast\n",
    "from mod_predict import predict_sic_code"
   ]
  },
  {
   "cell_type": "code",
   "execution_count": null,
   "id": "1c5cd7ec",
   "metadata": {},
   "outputs": [],
   "source": [
    "#API_1\n",
    "app = FastAPI()\n",
    "\n",
    "# Emplacements où le modèle et le tokenizer sont sauvegardés\n",
    "model_load_path = \"chemin vers votre modele\"\n",
    "tokenizer_load_path = \"chemin vers votre tokenizer\"\n",
    "\n",
    "# Chargement du modèle DistilBERT\n",
    "model = DistilBertForSequenceClassification.from_pretrained(model_load_path)\n",
    "# Chargement du tokenizer associé\n",
    "tokenizer = DistilBertTokenizerFast.from_pretrained(tokenizer_load_path)\n",
    "\n",
    "# La route definie pour la prédiction\n",
    "@app.post(\"/predict\", response_class=HTMLResponse)\n",
    "async def predict(request: Request):\n",
    "    form_data = await request.form()\n",
    "    text = form_data[\"text\"]\n",
    "    \n",
    "    # Prédiction avec le modèle et le tokenizer chargés\n",
    "    predictions = predict_sic_code(text, model, tokenizer, label_encoder)\n",
    "\n",
    "    # Afficher les résultats dans une page web\n",
    "    html_content = f\"\"\"\n",
    "    <html>\n",
    "        <head>\n",
    "            <title>Prédiction de SIC code</title>\n",
    "        </head>\n",
    "        <body>\n",
    "            <h1>Résultats de la prédiction</h1>\n",
    "            <p>Texte : {text}</p>\n",
    "            <p>Top 5 des codes SIC prédits :</p>\n",
    "            <ul>\n",
    "    \"\"\"\n",
    "\n",
    "    for i, (sic_code, certainty) in enumerate(predictions, 1):\n",
    "        html_content += f\"<li>SIC code: {sic_code}, Certainty: {certainty:.4f}</li>\"\n",
    "\n",
    "    html_content += \"\"\"\n",
    "            </ul>\n",
    "        </body>\n",
    "    </html>\n",
    "    \"\"\"\n",
    "\n",
    "    return HTMLResponse(content=html_content)\n"
   ]
  },
  {
   "cell_type": "code",
   "execution_count": 1,
   "id": "4543ae84",
   "metadata": {},
   "outputs": [
    {
     "ename": "ModuleNotFoundError",
     "evalue": "No module named 'fastapi'",
     "output_type": "error",
     "traceback": [
      "\u001b[1;31m---------------------------------------------------------------------------\u001b[0m",
      "\u001b[1;31mModuleNotFoundError\u001b[0m                       Traceback (most recent call last)",
      "Cell \u001b[1;32mIn[1], line 2\u001b[0m\n\u001b[0;32m      1\u001b[0m \u001b[38;5;66;03m#API_2\u001b[39;00m\n\u001b[1;32m----> 2\u001b[0m \u001b[38;5;28;01mfrom\u001b[39;00m \u001b[38;5;21;01mfastapi\u001b[39;00m \u001b[38;5;28;01mimport\u001b[39;00m FastAPI, Request, Depends, HTTPException\n\u001b[0;32m      3\u001b[0m \u001b[38;5;28;01mfrom\u001b[39;00m \u001b[38;5;21;01mfastapi\u001b[39;00m\u001b[38;5;21;01m.\u001b[39;00m\u001b[38;5;21;01mresponses\u001b[39;00m \u001b[38;5;28;01mimport\u001b[39;00m HTMLResponse\n\u001b[0;32m      4\u001b[0m \u001b[38;5;28;01mfrom\u001b[39;00m \u001b[38;5;21;01mfastapi\u001b[39;00m\u001b[38;5;21;01m.\u001b[39;00m\u001b[38;5;21;01mtemplating\u001b[39;00m \u001b[38;5;28;01mimport\u001b[39;00m Jinja2Templates\n",
      "\u001b[1;31mModuleNotFoundError\u001b[0m: No module named 'fastapi'"
     ]
    }
   ],
   "source": [
    "#API_2\n",
    "from fastapi import FastAPI, Request, Depends, HTTPException\n",
    "from fastapi.responses import HTMLResponse\n",
    "from fastapi.templating import Jinja2Templates\n",
    "from transformers import DistilBertForSequenceClassification, DistilBertTokenizerFast\n",
    "from mod_predict import predict_sic_code\n",
    "import pickle"
   ]
  },
  {
   "cell_type": "code",
   "execution_count": null,
   "id": "ba70ae5b",
   "metadata": {},
   "outputs": [],
   "source": [
    "app = FastAPI()\n",
    "templates = Jinja2Templates(directory=\"templates\")\n",
    "\n",
    "# Emplacements où le modèle et le tokenizer ont été sauvegardés\n",
    "model_load_path = \"fine_tuned_model_runpod_distillbert\"\n",
    "tokenizer_load_path = \"fine_tuned_tokenizer_runpod_distillbert\"\n",
    "label_encoder_load_path = \"label_encoder_runpod_distill_bert.pkl\"\n",
    "\n",
    "with open(label_encoder_load_path, \"rb\") as f:\n",
    "    label_encoder = pickle.load(f)\n",
    "\n",
    "# Charger le modèle DistilBERT\n",
    "model = DistilBertForSequenceClassification.from_pretrained(model_load_path)\n",
    "# Charger le tokenizer associé\n",
    "tokenizer = DistilBertTokenizerFast.from_pretrained(tokenizer_load_path)\n"
   ]
  },
  {
   "cell_type": "code",
   "execution_count": null,
   "id": "ab4c7333",
   "metadata": {},
   "outputs": [],
   "source": [
    "# Définir la route de prédiction\n",
    "@app.post(\"/predict\", response_class=HTMLResponse)\n",
    "async def predict(request: Request):\n",
    "    form_data = await request.form()\n",
    "    text = form_data[\"text\"]\n",
    "    \n",
    "    # Prédiction avec le modèle et le tokenizer chargés\n",
    "    predictions = predict_sic_code(text, model, tokenizer, label_encoder)\n",
    "\n",
    "    # Passer les résultats au modèle HTML\n",
    "    return templates.TemplateResponse(\"prediction_result.html\", {\"request\": request, \"text\": text, \"predictions\": predictions})\n"
   ]
  }
 ],
 "metadata": {
  "kernelspec": {
   "display_name": "Python 3 (ipykernel)",
   "language": "python",
   "name": "python3"
  },
  "language_info": {
   "codemirror_mode": {
    "name": "ipython",
    "version": 3
   },
   "file_extension": ".py",
   "mimetype": "text/x-python",
   "name": "python",
   "nbconvert_exporter": "python",
   "pygments_lexer": "ipython3",
   "version": "3.11.5"
  }
 },
 "nbformat": 4,
 "nbformat_minor": 5
}
